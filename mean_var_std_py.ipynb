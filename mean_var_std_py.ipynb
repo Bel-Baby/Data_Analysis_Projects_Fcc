{
  "nbformat": 4,
  "nbformat_minor": 0,
  "metadata": {
    "colab": {
      "provenance": [],
      "authorship_tag": "ABX9TyOoYuRb+Q+3zYI6Wdo3zymL",
      "include_colab_link": true
    },
    "kernelspec": {
      "name": "python3",
      "display_name": "Python 3"
    },
    "language_info": {
      "name": "python"
    }
  },
  "cells": [
    {
      "cell_type": "markdown",
      "metadata": {
        "id": "view-in-github",
        "colab_type": "text"
      },
      "source": [
        "<a href=\"https://colab.research.google.com/github/Bel-Baby/mean_var_std.py/blob/master/mean_var_std_py.ipynb\" target=\"_parent\"><img src=\"https://colab.research.google.com/assets/colab-badge.svg\" alt=\"Open In Colab\"/></a>"
      ]
    },
    {
      "cell_type": "code",
      "execution_count": 1,
      "metadata": {
        "id": "8M-bY49XEL3I"
      },
      "outputs": [],
      "source": [
        "import numpy as np"
      ]
    },
    {
      "cell_type": "code",
      "source": [
        "def calculate(lst):\n",
        "    if len(lst) != 9:\n",
        "        raise ValueError(\"List must contain nine numbers.\")\n",
        "\n",
        "    arr = np.array(lst).reshape(3, 3)\n",
        "\n",
        "    mean = [arr.mean(axis=0).tolist(), arr.mean(axis=1).tolist(), arr.mean().tolist()]\n",
        "    variance = [arr.var(axis=0).tolist(), arr.var(axis=1).tolist(), arr.var().tolist()]\n",
        "    std_dev = [arr.std(axis=0).tolist(), arr.std(axis=1).tolist(), arr.std().tolist()]\n",
        "    max_val = [arr.max(axis=0).tolist(), arr.max(axis=1).tolist(), arr.max().tolist()]\n",
        "    min_val = [arr.min(axis=0).tolist(), arr.min(axis=1).tolist(), arr.min().tolist()]\n",
        "    sum_val = [arr.sum(axis=0).tolist(), arr.sum(axis=1).tolist(), arr.sum().tolist()]\n",
        "\n",
        "    return {\n",
        "        'mean': mean,\n",
        "        'variance': variance,\n",
        "        'standard deviation': std_dev,\n",
        "        'max': max_val,\n",
        "        'min': min_val,\n",
        "        'sum': sum_val\n",
        "    }"
      ],
      "metadata": {
        "id": "21JWMf58EvpG"
      },
      "execution_count": 2,
      "outputs": []
    },
    {
      "cell_type": "code",
      "source": [
        "calculate([0,1,2,3,4,5,6,7,8])"
      ],
      "metadata": {
        "colab": {
          "base_uri": "https://localhost:8080/"
        },
        "id": "rlEA6h5MEyR-",
        "outputId": "5752ee70-c203-4e05-aa79-625070aaeb53"
      },
      "execution_count": 3,
      "outputs": [
        {
          "output_type": "execute_result",
          "data": {
            "text/plain": [
              "{'mean': [[3.0, 4.0, 5.0], [1.0, 4.0, 7.0], 4.0],\n",
              " 'variance': [[6.0, 6.0, 6.0],\n",
              "  [0.6666666666666666, 0.6666666666666666, 0.6666666666666666],\n",
              "  6.666666666666667],\n",
              " 'standard deviation': [[2.449489742783178,\n",
              "   2.449489742783178,\n",
              "   2.449489742783178],\n",
              "  [0.816496580927726, 0.816496580927726, 0.816496580927726],\n",
              "  2.581988897471611],\n",
              " 'max': [[6, 7, 8], [2, 5, 8], 8],\n",
              " 'min': [[0, 1, 2], [0, 3, 6], 0],\n",
              " 'sum': [[9, 12, 15], [3, 12, 21], 36]}"
            ]
          },
          "metadata": {},
          "execution_count": 3
        }
      ]
    }
  ]
}